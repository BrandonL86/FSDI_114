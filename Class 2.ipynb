{
 "cells": [
  {
   "cell_type": "code",
   "execution_count": null,
   "id": "143e7cdc-8246-44b6-bb87-2dd54229aebd",
   "metadata": {},
   "outputs": [],
   "source": [
    "\n",
    "class Stack:\n",
    "    def __init__(self):\n",
    "        self.items = []\n",
    "        \n",
    "    def push(self, value):\n",
    "        self.items.append(value)\n",
    "\n",
    "    def pop(self):\n",
    "        return self.items.pop()\n",
    "\n",
    "\n",
    "    # nice to have methods:\n",
    "    def peek(self):\n",
    "        return self.items[len(self.items-1)]\n",
    "\n",
    "    def size(self);\n",
    "        return len(self.items)\n",
    "    \n",
    "    def is_empty(self):\n",
    "        return self.items == []\n",
    "        \n",
    "    "
   ]
  },
  {
   "cell_type": "code",
   "execution_count": null,
   "id": "4b16e37f-cf15-44f3-80cb-1d0f1a11933e",
   "metadata": {},
   "outputs": [],
   "source": [
    "\n",
    "def invert_str(mystring):\n",
    "    out = \"\"\n",
    "    stack = Stack()\n",
    "    for char in mystring:\n",
    "        stack.push(char)\n",
    "    while not stack.is_empty():\n",
    "        out += stack.pop()    # this is shorthand for out = out + stack.pop()\n",
    "    return out\n",
    "\n",
    "invert_str(\"Brandon\")"
   ]
  },
  {
   "cell_type": "code",
   "execution_count": null,
   "id": "7dbba46f-ea4b-4734-9947-aea7d38273c6",
   "metadata": {},
   "outputs": [],
   "source": [
    "class StackII:\n",
    "    class __Node:\n",
    "        def __init__(self, data):\n",
    "            self.data = data\n",
    "            self.below = None\n",
    "\n",
    "        def __init__(self):\n",
    "            self.top = None\n",
    "\n",
    "    def push(self, value):\n",
    "        new_node = self.__Node(value)\n",
    "        if not self.top:\n",
    "            self.top = new_node\n",
    "        else:\n",
    "            current = self.top\n",
    "            self.top = new_node\n",
    "            new_node.below = current\n",
    "            \n",
    "    def pop(self):\n",
    "        if self.top:\n",
    "            datum = self.top.data\n",
    "            self.top = self.top.below\n",
    "            return datum\n",
    "        raise IndexError(\"Stack is empty\")\n",
    "\n",
    "    # Nice to have methods:\n",
    "    def peek(self):\n",
    "        # TBD\n",
    "        # Returns but does not remove the topmost data element (value, not node)\n",
    "        pass\n",
    "\n",
    "    def size(self):\n",
    "        # 0(n)\n",
    "        total = 0\n",
    "        if self.top:\n",
    "            current = self.top\n",
    "            while current:\n",
    "                current = current.below\n",
    "                total += 1\n",
    "            return total\n",
    "\n",
    "    def is_empty(self):\n",
    "        return self.top == None"
   ]
  }
 ],
 "metadata": {
  "kernelspec": {
   "display_name": "Python 3 (ipykernel)",
   "language": "python",
   "name": "python3"
  },
  "language_info": {
   "codemirror_mode": {
    "name": "ipython",
    "version": 3
   },
   "file_extension": ".py",
   "mimetype": "text/x-python",
   "name": "python",
   "nbconvert_exporter": "python",
   "pygments_lexer": "ipython3",
   "version": "3.11.4"
  }
 },
 "nbformat": 4,
 "nbformat_minor": 5
}
