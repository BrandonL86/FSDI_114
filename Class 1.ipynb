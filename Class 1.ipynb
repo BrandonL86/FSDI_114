{
 "cells": [
  {
   "cell_type": "code",
   "execution_count": 1,
   "id": "3cf61a58-1115-4bf6-b675-6d8ee8296719",
   "metadata": {},
   "outputs": [
    {
     "name": "stdout",
     "output_type": "stream",
     "text": [
      "h\n",
      "e\n",
      "l\n",
      "l\n",
      "o\n",
      ",\n",
      " \n",
      "w\n",
      "o\n",
      "r\n",
      "l\n",
      "d\n"
     ]
    }
   ],
   "source": [
    "for char in 'hello, world':\n",
    "    print(char)\n",
    "    "
   ]
  },
  {
   "cell_type": "markdown",
   "id": "dfea9405-b5ea-42a8-b44a-eda786f31700",
   "metadata": {},
   "source": [
    "# Problem 1\n",
    "\n",
    "## Anagram Checker\n",
    "\n",
    "### Create a function in python that checks whether two strings are anagrams of each other. If they are, return True, otherwise return False.\n",
    "\n",
    "#### Criteria\n",
    ">Two strings are anagrams if all the criteria below are met:\n",
    "> 1. They must have the same number of letters\n",
    "> 2. They must use all the same letters, the same amount of times.\n",
    "\n",
    "```\n",
    "Examples:\n",
    "heart and earth\n",
    "cars and scar\n",
    "star and rats\n",
    "```"
   ]
  },
  {
   "cell_type": "code",
   "execution_count": 2,
   "id": "0a5186c7-8101-499e-80fb-60fe2048ebc5",
   "metadata": {},
   "outputs": [],
   "source": [
    "# In the popular Harry Potter saga the villain's name is Lord Voldemort\n",
    "# In the book (and movies) it is explained that he chose this name as it is an anagram\n",
    "# of his \"human\" name which is Tom Marcolo Riddle.\n",
    "#So, \"Tom Marvolo Riddle\" is an anagram of \"I am Lord Voldemort\"\n",
    "\n",
    "#Can we craft a solution that returns True for all the cases shown as well as this one?"
   ]
  },
  {
   "cell_type": "code",
   "execution_count": 7,
   "id": "a87007ff-ed04-43cc-9cff-41b1378aed54",
   "metadata": {},
   "outputs": [],
   "source": [
    "# What would be an example of a poor solution?\n",
    "\n",
    "def anagram_check(string1, string2):\n",
    "    return sorted(string1.lower().replace(\" \", \"\")) == sorted(string2.lower().replace(\" \", \"\"))"
   ]
  },
  {
   "cell_type": "code",
   "execution_count": 8,
   "id": "34f28172-308a-40a5-90cd-77fd7064e725",
   "metadata": {},
   "outputs": [
    {
     "data": {
      "text/plain": [
       "False"
      ]
     },
     "execution_count": 8,
     "metadata": {},
     "output_type": "execute_result"
    }
   ],
   "source": [
    "anagram_check(\"I am Voldemort\", \"Tom Marvolo Riddle\")"
   ]
  },
  {
   "cell_type": "code",
   "execution_count": 6,
   "id": "74580ca2-86ca-410a-a18f-805350bb99be",
   "metadata": {},
   "outputs": [
    {
     "name": "stdout",
     "output_type": "stream",
     "text": [
      "True\n"
     ]
    }
   ],
   "source": [
    "def anagrams(word1, word2):\n",
    "    word1 = word1.replace(\" \", \"\").lower()\n",
    "    word2 = word2.replace(\" \", \"\").lower()\n",
    "    return sorted(word1) == sorted(word2)\n",
    "\n",
    "word1 = \"I am lord Voldemort\"\n",
    "word2 = \"Tom Marvolo Riddle\"\n",
    "result = anagrams(word1, word2)\n",
    "print(result) "
   ]
  },
  {
   "cell_type": "code",
   "execution_count": null,
   "id": "28de38a9-9ab4-4896-bcc9-0ce386868101",
   "metadata": {},
   "outputs": [],
   "source": []
  },
  {
   "cell_type": "code",
   "execution_count": null,
   "id": "fd1d9456-cce6-4522-a4cd-7076f4028b8f",
   "metadata": {},
   "outputs": [],
   "source": []
  }
 ],
 "metadata": {
  "kernelspec": {
   "display_name": "Python 3 (ipykernel)",
   "language": "python",
   "name": "python3"
  },
  "language_info": {
   "codemirror_mode": {
    "name": "ipython",
    "version": 3
   },
   "file_extension": ".py",
   "mimetype": "text/x-python",
   "name": "python",
   "nbconvert_exporter": "python",
   "pygments_lexer": "ipython3",
   "version": "3.11.4"
  }
 },
 "nbformat": 4,
 "nbformat_minor": 5
}
