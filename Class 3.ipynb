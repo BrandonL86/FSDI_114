{
 "cells": [
  {
   "cell_type": "code",
   "execution_count": null,
   "id": "b718cc4e-6d98-40de-97dd-ed3296de9958",
   "metadata": {},
   "outputs": [],
   "source": [
    "# Simplified implementation for Queue (using built-in data structures)\n",
    "\n",
    "class Queue:\n",
    "    def __init__(self):\n",
    "        self.items = []\n",
    "\n",
    "    def enqueue(self, value):\n",
    "        self.items.insert(0, value)\n",
    "\n",
    "    def dequeue(self):\n",
    "        return self.items.pop()\n",
    "\n",
    "    #nice to have methods:\n",
    "    def peek(self):\n",
    "        return self.items[len(self.items)-1]\n",
    "\n",
    "    def size(self):\n",
    "        return len(self.items)\n",
    "\n",
    "    def is_empty(self):\n",
    "        return self.items == []\n"
   ]
  },
  {
   "cell_type": "code",
   "execution_count": null,
   "id": "155e6fb5-4eba-41c4-b87c-396bb7c1e8d4",
   "metadata": {},
   "outputs": [],
   "source": [
    "queue = Queue()\n",
    "\n",
    "for number in range(1, 11):\n",
    "    queue.enqueue(number)\n",
    "\n",
    "while not queue.is_empty():\n",
    "    print(queue.dequeue())\n",
    "\n"
   ]
  },
  {
   "cell_type": "code",
   "execution_count": null,
   "id": "87daf2dd-7a68-44b9-ae45-fbd929cd075d",
   "metadata": {},
   "outputs": [],
   "source": [
    "class QueueII:\n",
    "    class _Node:\n",
    "        def init__(self, data):\n",
    "        self.data = data\n",
    "        self.prev = None\n",
    "        \n",
    "    def _init_(self):\n",
    "    set.back = None\n",
    "    self. front = None\n",
    "    \n",
    "    def enqueue (self, value):\n",
    "    new node = selt. Node value)\n",
    "    if not self.back:       # this is the same as saying \"if self.back is None\"\n",
    "        # Here's what happens when the queue is empty:\n",
    "        self.back = new node\n",
    "        self.front = new_node\n",
    "    else:\n",
    "        current_back = self.back\n",
    "        self.back = new node\n",
    "        current_back.prev = new_node\n",
    "    \n",
    "    def dequeue (self):\n",
    "        if self.front:\n",
    "            data = self.front.data\n",
    "            self.front = self. front. prev\n",
    "            if not self.front:\n",
    "                self.back = None\n",
    "            return data\n",
    "        raise IndexError (\"Queue is empty\")\n",
    "            \n",
    "\n"
   ]
  },
  {
   "cell_type": "code",
   "execution_count": null,
   "id": "c2ac38f9-a01c-4d7e-bc57-fa994c3a2409",
   "metadata": {},
   "outputs": [],
   "source": [
    "class Stack:\n",
    "    def __init__(self):\n",
    "        self.items = []\n",
    "\n",
    "    def is_empty(self):\n",
    "        return len(self.items) == 0\n",
    "\n",
    "    def push(self, item):\n",
    "        self.items.append(item)\n",
    "\n",
    "    def pop(self):\n",
    "        if not self.is_empty():\n",
    "            return self.items.pop()\n",
    "\n",
    "    def peek(self):\n",
    "        if not self.is_empty():\n",
    "            return self.items[-1]\n",
    "\n",
    "    def size(self):\n",
    "        return len(self.items)"
   ]
  }
 ],
 "metadata": {
  "kernelspec": {
   "display_name": "Python 3 (ipykernel)",
   "language": "python",
   "name": "python3"
  },
  "language_info": {
   "codemirror_mode": {
    "name": "ipython",
    "version": 3
   },
   "file_extension": ".py",
   "mimetype": "text/x-python",
   "name": "python",
   "nbconvert_exporter": "python",
   "pygments_lexer": "ipython3",
   "version": "3.11.4"
  }
 },
 "nbformat": 4,
 "nbformat_minor": 5
}
